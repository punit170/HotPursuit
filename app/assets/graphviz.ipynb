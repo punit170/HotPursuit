{
 "cells": [
  {
   "cell_type": "code",
   "execution_count": 4,
   "metadata": {},
   "outputs": [
    {
     "data": {
      "text/plain": [
       "'output.pdf'"
      ]
     },
     "execution_count": 4,
     "metadata": {},
     "output_type": "execute_result"
    }
   ],
   "source": [
    "import graphviz\n",
    "import os\n",
    "\n",
    "\n",
    "shards_folder_path = 'C:/UIC EDUCATION/CS441/HW/HW2/MitMStatSimulator/CS441-HW1/MitMStatSim/MitMStatSim/output/'\n",
    "\n",
    "# Specify the path to your DOT file\n",
    "#dot_file_path = \"C:/UIC EDUCATION/CS441/HW/HW2/MitMStatSimulator/CS441-HW1/MitMStatSim/MitMStatSim/output/Graph200.ngs.dot\"\n",
    "# dot_file_path = \"C:/UIC EDUCATION/CS441/HW/MapReduce - HW1/GraphEquivalence/outputs/shards/Net Graph - shard0.ngs.dot\"\n",
    "dot_file_path = \"C:/UIC EDUCATION/CS441/HW/HW2/MitMStatSimulator/CS441-HW1/MitMStatSim/MitMStatSim/output/Graph200.ngs.perturbed.dot\"\n",
    "\n",
    "# Read and parse the DOT file\n",
    "graph = graphviz.Source.from_file(dot_file_path)\n",
    "\n",
    "# Display the parsed graph\n",
    "graph.view()\n",
    "# Save the parsed graph as a PDF file\n",
    "graph.render(filename=\"output\", format=\"pdf\")\n",
    "\n",
    "# i = 0\n",
    "# for filename in os.listdir(shards_folder_path):\n",
    "#     if filename.endswith(\".dot\"):\n",
    "#         shard_file_path = os.path.join(shards_folder_path, filename)\n",
    "        \n",
    "#         # Read and parse the DOT file\n",
    "#         graph = graphviz.Source.from_file(shard_file_path)\n",
    "\n",
    "#         # Display the parsed graph\n",
    "#         graph.view()\n",
    "#         # Save the parsed graph as a PDF file\n",
    "#         graph.render(filename=f\"shard{i}\", format=\"pdf\")\n",
    "#         i +=1\n"
   ]
  }
 ],
 "metadata": {
  "kernelspec": {
   "display_name": "base",
   "language": "python",
   "name": "python3"
  },
  "language_info": {
   "codemirror_mode": {
    "name": "ipython",
    "version": 3
   },
   "file_extension": ".py",
   "mimetype": "text/x-python",
   "name": "python",
   "nbconvert_exporter": "python",
   "pygments_lexer": "ipython3",
   "version": "3.11.4"
  },
  "orig_nbformat": 4
 },
 "nbformat": 4,
 "nbformat_minor": 2
}
